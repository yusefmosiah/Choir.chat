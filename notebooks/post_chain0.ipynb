{
 "cells": [
  {
   "cell_type": "code",
   "execution_count": null,
   "metadata": {},
   "outputs": [],
   "source": [
    "from openai import OpenAI\n",
    "from qdrant_client import QdrantClient, models\n",
    "from qdrant_client.http.exceptions import ApiException, UnexpectedResponse\n",
    "from datetime import datetime\n",
    "import logging\n",
    "import uuid\n",
    "import os"
   ]
  }
 ],
 "metadata": {
  "language_info": {
   "name": "python"
  }
 },
 "nbformat": 4,
 "nbformat_minor": 2
}
